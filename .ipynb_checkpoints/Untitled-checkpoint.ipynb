{
 "cells": [
  {
   "cell_type": "code",
   "execution_count": 1,
   "metadata": {},
   "outputs": [],
   "source": [
    "import pandas as pd\n",
    "import copy\n",
    "# reader = pd.read_csv('./file/0510test_set_001.csv', chunksize=100000)"
   ]
  },
  {
   "cell_type": "code",
   "execution_count": 19,
   "metadata": {},
   "outputs": [
    {
     "name": "stdout",
     "output_type": "stream",
     "text": [
      "True\n",
      "True\n",
      "True\n",
      "True\n",
      "True\n",
      "True\n",
      "True\n",
      "True\n",
      "True\n"
     ]
    }
   ],
   "source": [
    "# 不可变对象  元组 字符串 数字\n",
    "a = (1, 2, 3)\n",
    "b= \"daiwenli\"\n",
    "c = 5\n",
    "x = a\n",
    "y = b\n",
    "z = c\n",
    "print(id(a) == id(x))  # True\n",
    "print(id(b) == id(y))  # True\n",
    "print(id(c) == id(z))  # True\n",
    "x = copy.copy(a)\n",
    "y = copy.copy(b)\n",
    "z = copy.copy(c)\n",
    "print(id(a) == id(x))  # True\n",
    "print(id(b) == id(y))  # True\n",
    "print(id(c) == id(z))  # True\n",
    "x = copy.deepcopy(a)\n",
    "y = copy.deepcopy(b)\n",
    "z = copy.deepcopy(c)\n",
    "print(id(a) == id(x))  # True\n",
    "print(id(b) == id(y))  # True\n",
    "print(id(c) == id(z))  # True"
   ]
  },
  {
   "cell_type": "code",
   "execution_count": 26,
   "metadata": {},
   "outputs": [
    {
     "name": "stdout",
     "output_type": "stream",
     "text": [
      "True\n",
      "True\n",
      "True\n",
      "False\n",
      "False\n",
      "False\n",
      "False\n",
      "False\n",
      "False\n"
     ]
    },
    {
     "data": {
      "text/plain": [
       "[1, 2, 3]"
      ]
     },
     "execution_count": 26,
     "metadata": {},
     "output_type": "execute_result"
    }
   ],
   "source": [
    "# 可变对象 list dict\n",
    "a = [1, 2, 3]\n",
    "b= dict({'a':1})\n",
    "c = [(1,2), 3, 4]\n",
    "# a.copy()  # 可以\n",
    "# b.copy()  # 可以\n",
    "# c.copy()  # 可以\n",
    "x = a\n",
    "y = b\n",
    "z = c\n",
    "print(id(a) == id(x))  # True\n",
    "print(id(b) == id(y))  # True\n",
    "print(id(c) == id(z))  # True\n",
    "x = copy.copy(a)\n",
    "y = copy.copy(b)\n",
    "z = copy.copy(c)\n",
    "print(id(a) == id(x))  # False\n",
    "print(id(b) == id(y))  # False\n",
    "print(id(c) == id(z))  # False\n",
    "x = copy.deepcopy(a)\n",
    "y = copy.deepcopy(b)\n",
    "z = copy.deepcopy(c)\n",
    "print(id(a) == id(x))  # False\n",
    "print(id(b) == id(y))  # False\n",
    "print(id(c) == id(z))  # False"
   ]
  },
  {
   "cell_type": "code",
   "execution_count": 22,
   "metadata": {},
   "outputs": [
    {
     "name": "stdout",
     "output_type": "stream",
     "text": [
      "True\n",
      "True\n",
      "True\n",
      "False\n",
      "False\n",
      "False\n"
     ]
    }
   ],
   "source": [
    "a = ([1, 2, 3], 4, 5)  # 不可变内部嵌套可变\n",
    "b = [(1,2), 3, 4]  # 可变内部嵌套不可变\n",
    "# a.copy() 会报错\n",
    "# b.copy() 可以\n",
    "x = a\n",
    "y = b\n",
    "print(id(a) == id(x))  # True\n",
    "print(id(b) == id(y))  # True\n",
    "x = copy.copy(a)\n",
    "y = copy.copy(b)\n",
    "print(id(a) == id(x))  # True\n",
    "print(id(b) == id(y))  # False\n",
    "x = copy.deepcopy(a)\n",
    "y = copy.deepcopy(b)\n",
    "z = copy.deepcopy(c)\n",
    "print(id(a) == id(x))  # False\n",
    "print(id(b) == id(y))  # False"
   ]
  },
  {
   "cell_type": "code",
   "execution_count": 24,
   "metadata": {},
   "outputs": [
    {
     "data": {
      "text/plain": [
       "[(1, 2), 3, 4]"
      ]
     },
     "execution_count": 24,
     "metadata": {},
     "output_type": "execute_result"
    }
   ],
   "source": []
  },
  {
   "cell_type": "code",
   "execution_count": null,
   "metadata": {},
   "outputs": [],
   "source": []
  }
 ],
 "metadata": {
  "kernelspec": {
   "display_name": "Python 3",
   "language": "python",
   "name": "python3"
  },
  "language_info": {
   "codemirror_mode": {
    "name": "ipython",
    "version": 3
   },
   "file_extension": ".py",
   "mimetype": "text/x-python",
   "name": "python",
   "nbconvert_exporter": "python",
   "pygments_lexer": "ipython3",
   "version": "3.5.2"
  }
 },
 "nbformat": 4,
 "nbformat_minor": 2
}
